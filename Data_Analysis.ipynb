{
  "nbformat": 4,
  "nbformat_minor": 0,
  "metadata": {
    "colab": {
      "name": "Data_Analysis.ipynb",
      "provenance": [],
      "authorship_tag": "ABX9TyMPlDJ61U7sTjYX8Rk7Vy87",
      "include_colab_link": true
    },
    "kernelspec": {
      "name": "python3",
      "display_name": "Python 3"
    },
    "language_info": {
      "name": "python"
    }
  },
  "cells": [
    {
      "cell_type": "markdown",
      "metadata": {
        "id": "view-in-github",
        "colab_type": "text"
      },
      "source": [
        "<a href=\"https://colab.research.google.com/github/Alherrera2798/HHA_507_StreamlitFinal/blob/main/Data_Analysis.ipynb\" target=\"_parent\"><img src=\"https://colab.research.google.com/assets/colab-badge.svg\" alt=\"Open In Colab\"/></a>"
      ]
    },
    {
      "cell_type": "markdown",
      "source": [
        "#**Importing** any packages that will be of use our assignment \n",
        "#### - Importing and Installing all required packages"
      ],
      "metadata": {
        "id": "tmcuSFGLDO38"
      }
    },
    {
      "cell_type": "code",
      "execution_count": 5,
      "metadata": {
        "id": "dykAmQw4CYDN"
      },
      "outputs": [],
      "source": [
        "import pandas as pd \n",
        "import numpy as np\n",
        "import seaborn as sns\n",
        "import matplotlib.pyplot as plt"
      ]
    },
    {
      "cell_type": "code",
      "source": [
        "!pip install sweetviz"
      ],
      "metadata": {
        "id": "ejpkOOu5H74Z"
      },
      "execution_count": null,
      "outputs": []
    },
    {
      "cell_type": "code",
      "source": [
        "!pip install pandas_profiling"
      ],
      "metadata": {
        "id": "Qx_Q5XQGH_Ta"
      },
      "execution_count": null,
      "outputs": []
    },
    {
      "cell_type": "code",
      "source": [
        "import sweetviz\n",
        "import sweetviz as sv"
      ],
      "metadata": {
        "id": "ulMOmXKgIHBy"
      },
      "execution_count": 4,
      "outputs": []
    },
    {
      "cell_type": "markdown",
      "source": [
        "# Datasets from github repo and loading them\n",
        "#### hospital_info.csv\n",
        "#### inpatient_2015.csv\n",
        "#### outpatient.csv"
      ],
      "metadata": {
        "id": "KFgKUCQoE_Va"
      }
    },
    {
      "cell_type": "code",
      "source": [
        "df_hospital = pd.read_csv('https://raw.githubusercontent.com/hantswilliams/AHI_DataSci_507/main/Deployment_Streamlit/hospital_info.csv')\n",
        "df_hospital"
      ],
      "metadata": {
        "id": "cqRojxgDDFHR",
        "colab": {
          "base_uri": "https://localhost:8080/",
          "height": 973
        },
        "outputId": "ae03154d-aed4-4dc9-f4f7-1a2440cad8d1"
      },
      "execution_count": 26,
      "outputs": [
        {
          "output_type": "execute_result",
          "data": {
            "text/html": [
              "\n",
              "  <div id=\"df-a57e75cc-e6e0-4bb6-baff-d66901c17f3a\">\n",
              "    <div class=\"colab-df-container\">\n",
              "      <div>\n",
              "<style scoped>\n",
              "    .dataframe tbody tr th:only-of-type {\n",
              "        vertical-align: middle;\n",
              "    }\n",
              "\n",
              "    .dataframe tbody tr th {\n",
              "        vertical-align: top;\n",
              "    }\n",
              "\n",
              "    .dataframe thead th {\n",
              "        text-align: right;\n",
              "    }\n",
              "</style>\n",
              "<table border=\"1\" class=\"dataframe\">\n",
              "  <thead>\n",
              "    <tr style=\"text-align: right;\">\n",
              "      <th></th>\n",
              "      <th>provider_id</th>\n",
              "      <th>hospital_name</th>\n",
              "      <th>address</th>\n",
              "      <th>city</th>\n",
              "      <th>state</th>\n",
              "      <th>zip_code</th>\n",
              "      <th>county_name</th>\n",
              "      <th>phone_number</th>\n",
              "      <th>hospital_type</th>\n",
              "      <th>hospital_ownership</th>\n",
              "      <th>emergency_services</th>\n",
              "      <th>meets_criteria_for_meaningful_use_of_ehrs</th>\n",
              "      <th>hospital_overall_rating</th>\n",
              "      <th>hospital_overall_rating_footnote</th>\n",
              "      <th>mortality_national_comparison</th>\n",
              "      <th>mortality_national_comparison_footnote</th>\n",
              "      <th>safety_of_care_national_comparison</th>\n",
              "      <th>safety_of_care_national_comparison_footnote</th>\n",
              "      <th>readmission_national_comparison</th>\n",
              "      <th>readmission_national_comparison_footnote</th>\n",
              "      <th>patient_experience_national_comparison</th>\n",
              "      <th>patient_experience_national_comparison_footnote</th>\n",
              "      <th>effectiveness_of_care_national_comparison</th>\n",
              "      <th>effectiveness_of_care_national_comparison_footnote</th>\n",
              "      <th>timeliness_of_care_national_comparison</th>\n",
              "      <th>timeliness_of_care_national_comparison_footnote</th>\n",
              "      <th>efficient_use_of_medical_imaging_national_comparison</th>\n",
              "      <th>efficient_use_of_medical_imaging_national_comparison_footnote</th>\n",
              "      <th>location</th>\n",
              "    </tr>\n",
              "  </thead>\n",
              "  <tbody>\n",
              "    <tr>\n",
              "      <th>0</th>\n",
              "      <td>310119</td>\n",
              "      <td>THE UNIVERSITY HOSPITAL</td>\n",
              "      <td>150 BERGEN ST</td>\n",
              "      <td>NEWARK</td>\n",
              "      <td>NJ</td>\n",
              "      <td>7101</td>\n",
              "      <td>ESSEX</td>\n",
              "      <td>(973) 972-5658</td>\n",
              "      <td>Acute Care Hospitals</td>\n",
              "      <td>Government - State</td>\n",
              "      <td>True</td>\n",
              "      <td>True</td>\n",
              "      <td>1</td>\n",
              "      <td>23.0</td>\n",
              "      <td>Same as the national average</td>\n",
              "      <td>NaN</td>\n",
              "      <td>Below the national average</td>\n",
              "      <td>23.0</td>\n",
              "      <td>Below the national average</td>\n",
              "      <td>NaN</td>\n",
              "      <td>Below the national average</td>\n",
              "      <td>NaN</td>\n",
              "      <td>Below the national average</td>\n",
              "      <td>NaN</td>\n",
              "      <td>Below the national average</td>\n",
              "      <td>NaN</td>\n",
              "      <td>Not Available</td>\n",
              "      <td>5.0</td>\n",
              "      <td>POINT (-74.19213 40.74095)</td>\n",
              "    </tr>\n",
              "    <tr>\n",
              "      <th>1</th>\n",
              "      <td>310016</td>\n",
              "      <td>CAREPOINT HEALTH-CHRIST HOSPITAL</td>\n",
              "      <td>176 PALISADE AVE</td>\n",
              "      <td>JERSEY CITY</td>\n",
              "      <td>NJ</td>\n",
              "      <td>7306</td>\n",
              "      <td>HUDSON</td>\n",
              "      <td>(201) 795-8200</td>\n",
              "      <td>Acute Care Hospitals</td>\n",
              "      <td>Voluntary non-profit - Church</td>\n",
              "      <td>True</td>\n",
              "      <td>True</td>\n",
              "      <td>1</td>\n",
              "      <td>NaN</td>\n",
              "      <td>Same as the national average</td>\n",
              "      <td>NaN</td>\n",
              "      <td>Below the national average</td>\n",
              "      <td>NaN</td>\n",
              "      <td>Below the national average</td>\n",
              "      <td>NaN</td>\n",
              "      <td>Below the national average</td>\n",
              "      <td>NaN</td>\n",
              "      <td>Same as the national average</td>\n",
              "      <td>NaN</td>\n",
              "      <td>Below the national average</td>\n",
              "      <td>NaN</td>\n",
              "      <td>Same as the national average</td>\n",
              "      <td>NaN</td>\n",
              "      <td>POINT (-74.05014200000001 40.734876)</td>\n",
              "    </tr>\n",
              "    <tr>\n",
              "      <th>2</th>\n",
              "      <td>390123</td>\n",
              "      <td>POTTSTOWN HOSPITAL</td>\n",
              "      <td>1600 EAST HIGH STREET</td>\n",
              "      <td>POTTSTOWN</td>\n",
              "      <td>PA</td>\n",
              "      <td>19464</td>\n",
              "      <td>MONTGOMERY</td>\n",
              "      <td>(610) 327-7000</td>\n",
              "      <td>Acute Care Hospitals</td>\n",
              "      <td>Voluntary non-profit - Private</td>\n",
              "      <td>True</td>\n",
              "      <td>True</td>\n",
              "      <td>1</td>\n",
              "      <td>NaN</td>\n",
              "      <td>Same as the national average</td>\n",
              "      <td>NaN</td>\n",
              "      <td>Below the national average</td>\n",
              "      <td>NaN</td>\n",
              "      <td>Below the national average</td>\n",
              "      <td>NaN</td>\n",
              "      <td>Below the national average</td>\n",
              "      <td>NaN</td>\n",
              "      <td>Below the national average</td>\n",
              "      <td>NaN</td>\n",
              "      <td>Same as the national average</td>\n",
              "      <td>NaN</td>\n",
              "      <td>Same as the national average</td>\n",
              "      <td>NaN</td>\n",
              "      <td>POINT (-75.611502 40.243941)</td>\n",
              "    </tr>\n",
              "    <tr>\n",
              "      <th>3</th>\n",
              "      <td>440002</td>\n",
              "      <td>JACKSON-MADISON COUNTY GENERAL HOSPITAL</td>\n",
              "      <td>620 SKYLINE DRIVE</td>\n",
              "      <td>JACKSON</td>\n",
              "      <td>TN</td>\n",
              "      <td>38301</td>\n",
              "      <td>MADISON</td>\n",
              "      <td>(731) 541-5000</td>\n",
              "      <td>Acute Care Hospitals</td>\n",
              "      <td>Government - Hospital District or Authority</td>\n",
              "      <td>True</td>\n",
              "      <td>True</td>\n",
              "      <td>1</td>\n",
              "      <td>NaN</td>\n",
              "      <td>Below the national average</td>\n",
              "      <td>NaN</td>\n",
              "      <td>Below the national average</td>\n",
              "      <td>NaN</td>\n",
              "      <td>Below the national average</td>\n",
              "      <td>NaN</td>\n",
              "      <td>Above the national average</td>\n",
              "      <td>NaN</td>\n",
              "      <td>Same as the national average</td>\n",
              "      <td>NaN</td>\n",
              "      <td>Same as the national average</td>\n",
              "      <td>NaN</td>\n",
              "      <td>Same as the national average</td>\n",
              "      <td>NaN</td>\n",
              "      <td>POINT (-88.831973 35.63954)</td>\n",
              "    </tr>\n",
              "    <tr>\n",
              "      <th>4</th>\n",
              "      <td>330080</td>\n",
              "      <td>LINCOLN MEDICAL &amp; MENTAL HEALTH CENTER</td>\n",
              "      <td>234 EAST 149TH STREET</td>\n",
              "      <td>BRONX</td>\n",
              "      <td>NY</td>\n",
              "      <td>10451</td>\n",
              "      <td>BRONX</td>\n",
              "      <td>(718) 579-5000</td>\n",
              "      <td>Acute Care Hospitals</td>\n",
              "      <td>Government - Local</td>\n",
              "      <td>True</td>\n",
              "      <td>True</td>\n",
              "      <td>1</td>\n",
              "      <td>NaN</td>\n",
              "      <td>Same as the national average</td>\n",
              "      <td>NaN</td>\n",
              "      <td>Below the national average</td>\n",
              "      <td>NaN</td>\n",
              "      <td>Below the national average</td>\n",
              "      <td>NaN</td>\n",
              "      <td>Below the national average</td>\n",
              "      <td>NaN</td>\n",
              "      <td>Below the national average</td>\n",
              "      <td>NaN</td>\n",
              "      <td>Below the national average</td>\n",
              "      <td>NaN</td>\n",
              "      <td>Not Available</td>\n",
              "      <td>5.0</td>\n",
              "      <td>POINT (-73.924072 40.817681)</td>\n",
              "    </tr>\n",
              "    <tr>\n",
              "      <th>...</th>\n",
              "      <td>...</td>\n",
              "      <td>...</td>\n",
              "      <td>...</td>\n",
              "      <td>...</td>\n",
              "      <td>...</td>\n",
              "      <td>...</td>\n",
              "      <td>...</td>\n",
              "      <td>...</td>\n",
              "      <td>...</td>\n",
              "      <td>...</td>\n",
              "      <td>...</td>\n",
              "      <td>...</td>\n",
              "      <td>...</td>\n",
              "      <td>...</td>\n",
              "      <td>...</td>\n",
              "      <td>...</td>\n",
              "      <td>...</td>\n",
              "      <td>...</td>\n",
              "      <td>...</td>\n",
              "      <td>...</td>\n",
              "      <td>...</td>\n",
              "      <td>...</td>\n",
              "      <td>...</td>\n",
              "      <td>...</td>\n",
              "      <td>...</td>\n",
              "      <td>...</td>\n",
              "      <td>...</td>\n",
              "      <td>...</td>\n",
              "      <td>...</td>\n",
              "    </tr>\n",
              "    <tr>\n",
              "      <th>5309</th>\n",
              "      <td>49001F</td>\n",
              "      <td>Fort Belvoir Community Hospital</td>\n",
              "      <td>9300 DeWitt Loop</td>\n",
              "      <td>Fort Belvoir</td>\n",
              "      <td>VA</td>\n",
              "      <td>22060</td>\n",
              "      <td>FAIRFAX</td>\n",
              "      <td>(571) 231-3224</td>\n",
              "      <td>Acute Care - Department of Defense</td>\n",
              "      <td>Department of Defense</td>\n",
              "      <td>True</td>\n",
              "      <td>NaN</td>\n",
              "      <td>Not Available</td>\n",
              "      <td>22.0</td>\n",
              "      <td>Not Available</td>\n",
              "      <td>22.0</td>\n",
              "      <td>Not Available</td>\n",
              "      <td>22.0</td>\n",
              "      <td>Not Available</td>\n",
              "      <td>22.0</td>\n",
              "      <td>Not Available</td>\n",
              "      <td>22.0</td>\n",
              "      <td>Not Available</td>\n",
              "      <td>22.0</td>\n",
              "      <td>Not Available</td>\n",
              "      <td>22.0</td>\n",
              "      <td>Not Available</td>\n",
              "      <td>22.0</td>\n",
              "      <td>POINT (-77.142608 38.705877)</td>\n",
              "    </tr>\n",
              "    <tr>\n",
              "      <th>5310</th>\n",
              "      <td>26002F</td>\n",
              "      <td>General Leonard Wood ACH (FT Leonard Wood)</td>\n",
              "      <td>126 Missouri Avenue</td>\n",
              "      <td>Fort Leonard Wood</td>\n",
              "      <td>MO</td>\n",
              "      <td>65473</td>\n",
              "      <td>PULASKI</td>\n",
              "      <td>(573) 596-0035</td>\n",
              "      <td>Acute Care - Department of Defense</td>\n",
              "      <td>Department of Defense</td>\n",
              "      <td>True</td>\n",
              "      <td>NaN</td>\n",
              "      <td>Not Available</td>\n",
              "      <td>22.0</td>\n",
              "      <td>Not Available</td>\n",
              "      <td>22.0</td>\n",
              "      <td>Not Available</td>\n",
              "      <td>22.0</td>\n",
              "      <td>Not Available</td>\n",
              "      <td>22.0</td>\n",
              "      <td>Not Available</td>\n",
              "      <td>22.0</td>\n",
              "      <td>Not Available</td>\n",
              "      <td>22.0</td>\n",
              "      <td>Not Available</td>\n",
              "      <td>22.0</td>\n",
              "      <td>Not Available</td>\n",
              "      <td>22.0</td>\n",
              "      <td>POINT (-92.116491 37.766471)</td>\n",
              "    </tr>\n",
              "    <tr>\n",
              "      <th>5311</th>\n",
              "      <td>50014F</td>\n",
              "      <td>NH Oak Harbor</td>\n",
              "      <td>3475 North Saratoga Street</td>\n",
              "      <td>Oak Harbor</td>\n",
              "      <td>WA</td>\n",
              "      <td>98277</td>\n",
              "      <td>ISLAND</td>\n",
              "      <td>(360) 257-9500</td>\n",
              "      <td>Acute Care - Department of Defense</td>\n",
              "      <td>Department of Defense</td>\n",
              "      <td>False</td>\n",
              "      <td>NaN</td>\n",
              "      <td>Not Available</td>\n",
              "      <td>22.0</td>\n",
              "      <td>Not Available</td>\n",
              "      <td>22.0</td>\n",
              "      <td>Not Available</td>\n",
              "      <td>22.0</td>\n",
              "      <td>Not Available</td>\n",
              "      <td>22.0</td>\n",
              "      <td>Not Available</td>\n",
              "      <td>22.0</td>\n",
              "      <td>Not Available</td>\n",
              "      <td>22.0</td>\n",
              "      <td>Not Available</td>\n",
              "      <td>22.0</td>\n",
              "      <td>Not Available</td>\n",
              "      <td>22.0</td>\n",
              "      <td>POINT (-122.680142 48.336875)</td>\n",
              "    </tr>\n",
              "    <tr>\n",
              "      <th>5312</th>\n",
              "      <td>21007F</td>\n",
              "      <td>Walter Reed National Military Med Cen</td>\n",
              "      <td>8901 Rockville Pike</td>\n",
              "      <td>Bethesda</td>\n",
              "      <td>MD</td>\n",
              "      <td>20889</td>\n",
              "      <td>MONTGOMERY</td>\n",
              "      <td>(301) 295-4000</td>\n",
              "      <td>Acute Care - Department of Defense</td>\n",
              "      <td>Department of Defense</td>\n",
              "      <td>True</td>\n",
              "      <td>NaN</td>\n",
              "      <td>Not Available</td>\n",
              "      <td>22.0</td>\n",
              "      <td>Not Available</td>\n",
              "      <td>22.0</td>\n",
              "      <td>Not Available</td>\n",
              "      <td>22.0</td>\n",
              "      <td>Not Available</td>\n",
              "      <td>22.0</td>\n",
              "      <td>Not Available</td>\n",
              "      <td>22.0</td>\n",
              "      <td>Not Available</td>\n",
              "      <td>22.0</td>\n",
              "      <td>Not Available</td>\n",
              "      <td>22.0</td>\n",
              "      <td>Not Available</td>\n",
              "      <td>22.0</td>\n",
              "      <td>POINT (-77.096801 38.99949)</td>\n",
              "    </tr>\n",
              "    <tr>\n",
              "      <th>5313</th>\n",
              "      <td>45070F</td>\n",
              "      <td>Darnall AMC (FT Hood)</td>\n",
              "      <td>36000 Darnall Loop</td>\n",
              "      <td>Fort Hood</td>\n",
              "      <td>TX</td>\n",
              "      <td>76544</td>\n",
              "      <td>BELL</td>\n",
              "      <td>(254) 288-8000</td>\n",
              "      <td>Acute Care - Department of Defense</td>\n",
              "      <td>Department of Defense</td>\n",
              "      <td>True</td>\n",
              "      <td>NaN</td>\n",
              "      <td>Not Available</td>\n",
              "      <td>22.0</td>\n",
              "      <td>Not Available</td>\n",
              "      <td>22.0</td>\n",
              "      <td>Not Available</td>\n",
              "      <td>22.0</td>\n",
              "      <td>Not Available</td>\n",
              "      <td>22.0</td>\n",
              "      <td>Not Available</td>\n",
              "      <td>22.0</td>\n",
              "      <td>Not Available</td>\n",
              "      <td>22.0</td>\n",
              "      <td>Not Available</td>\n",
              "      <td>22.0</td>\n",
              "      <td>Not Available</td>\n",
              "      <td>22.0</td>\n",
              "      <td>POINT (-97.775132 31.130337)</td>\n",
              "    </tr>\n",
              "  </tbody>\n",
              "</table>\n",
              "<p>5314 rows × 29 columns</p>\n",
              "</div>\n",
              "      <button class=\"colab-df-convert\" onclick=\"convertToInteractive('df-a57e75cc-e6e0-4bb6-baff-d66901c17f3a')\"\n",
              "              title=\"Convert this dataframe to an interactive table.\"\n",
              "              style=\"display:none;\">\n",
              "        \n",
              "  <svg xmlns=\"http://www.w3.org/2000/svg\" height=\"24px\"viewBox=\"0 0 24 24\"\n",
              "       width=\"24px\">\n",
              "    <path d=\"M0 0h24v24H0V0z\" fill=\"none\"/>\n",
              "    <path d=\"M18.56 5.44l.94 2.06.94-2.06 2.06-.94-2.06-.94-.94-2.06-.94 2.06-2.06.94zm-11 1L8.5 8.5l.94-2.06 2.06-.94-2.06-.94L8.5 2.5l-.94 2.06-2.06.94zm10 10l.94 2.06.94-2.06 2.06-.94-2.06-.94-.94-2.06-.94 2.06-2.06.94z\"/><path d=\"M17.41 7.96l-1.37-1.37c-.4-.4-.92-.59-1.43-.59-.52 0-1.04.2-1.43.59L10.3 9.45l-7.72 7.72c-.78.78-.78 2.05 0 2.83L4 21.41c.39.39.9.59 1.41.59.51 0 1.02-.2 1.41-.59l7.78-7.78 2.81-2.81c.8-.78.8-2.07 0-2.86zM5.41 20L4 18.59l7.72-7.72 1.47 1.35L5.41 20z\"/>\n",
              "  </svg>\n",
              "      </button>\n",
              "      \n",
              "  <style>\n",
              "    .colab-df-container {\n",
              "      display:flex;\n",
              "      flex-wrap:wrap;\n",
              "      gap: 12px;\n",
              "    }\n",
              "\n",
              "    .colab-df-convert {\n",
              "      background-color: #E8F0FE;\n",
              "      border: none;\n",
              "      border-radius: 50%;\n",
              "      cursor: pointer;\n",
              "      display: none;\n",
              "      fill: #1967D2;\n",
              "      height: 32px;\n",
              "      padding: 0 0 0 0;\n",
              "      width: 32px;\n",
              "    }\n",
              "\n",
              "    .colab-df-convert:hover {\n",
              "      background-color: #E2EBFA;\n",
              "      box-shadow: 0px 1px 2px rgba(60, 64, 67, 0.3), 0px 1px 3px 1px rgba(60, 64, 67, 0.15);\n",
              "      fill: #174EA6;\n",
              "    }\n",
              "\n",
              "    [theme=dark] .colab-df-convert {\n",
              "      background-color: #3B4455;\n",
              "      fill: #D2E3FC;\n",
              "    }\n",
              "\n",
              "    [theme=dark] .colab-df-convert:hover {\n",
              "      background-color: #434B5C;\n",
              "      box-shadow: 0px 1px 3px 1px rgba(0, 0, 0, 0.15);\n",
              "      filter: drop-shadow(0px 1px 2px rgba(0, 0, 0, 0.3));\n",
              "      fill: #FFFFFF;\n",
              "    }\n",
              "  </style>\n",
              "\n",
              "      <script>\n",
              "        const buttonEl =\n",
              "          document.querySelector('#df-a57e75cc-e6e0-4bb6-baff-d66901c17f3a button.colab-df-convert');\n",
              "        buttonEl.style.display =\n",
              "          google.colab.kernel.accessAllowed ? 'block' : 'none';\n",
              "\n",
              "        async function convertToInteractive(key) {\n",
              "          const element = document.querySelector('#df-a57e75cc-e6e0-4bb6-baff-d66901c17f3a');\n",
              "          const dataTable =\n",
              "            await google.colab.kernel.invokeFunction('convertToInteractive',\n",
              "                                                     [key], {});\n",
              "          if (!dataTable) return;\n",
              "\n",
              "          const docLinkHtml = 'Like what you see? Visit the ' +\n",
              "            '<a target=\"_blank\" href=https://colab.research.google.com/notebooks/data_table.ipynb>data table notebook</a>'\n",
              "            + ' to learn more about interactive tables.';\n",
              "          element.innerHTML = '';\n",
              "          dataTable['output_type'] = 'display_data';\n",
              "          await google.colab.output.renderOutput(dataTable, element);\n",
              "          const docLink = document.createElement('div');\n",
              "          docLink.innerHTML = docLinkHtml;\n",
              "          element.appendChild(docLink);\n",
              "        }\n",
              "      </script>\n",
              "    </div>\n",
              "  </div>\n",
              "  "
            ],
            "text/plain": [
              "     provider_id  ...                              location\n",
              "0         310119  ...            POINT (-74.19213 40.74095)\n",
              "1         310016  ...  POINT (-74.05014200000001 40.734876)\n",
              "2         390123  ...          POINT (-75.611502 40.243941)\n",
              "3         440002  ...           POINT (-88.831973 35.63954)\n",
              "4         330080  ...          POINT (-73.924072 40.817681)\n",
              "...          ...  ...                                   ...\n",
              "5309      49001F  ...          POINT (-77.142608 38.705877)\n",
              "5310      26002F  ...          POINT (-92.116491 37.766471)\n",
              "5311      50014F  ...         POINT (-122.680142 48.336875)\n",
              "5312      21007F  ...           POINT (-77.096801 38.99949)\n",
              "5313      45070F  ...          POINT (-97.775132 31.130337)\n",
              "\n",
              "[5314 rows x 29 columns]"
            ]
          },
          "metadata": {},
          "execution_count": 26
        }
      ]
    },
    {
      "cell_type": "code",
      "source": [
        "df_inpatient = pd.read_csv('https://raw.githubusercontent.com/hantswilliams/AHI_DataSci_507/main/Deployment_Streamlit/inpatient_2015.csv')\n",
        "df_inpatient"
      ],
      "metadata": {
        "id": "4WsQw3mpG_DK"
      },
      "execution_count": null,
      "outputs": []
    },
    {
      "cell_type": "code",
      "source": [
        "df_outpatient = pd.read_csv('https://raw.githubusercontent.com/hantswilliams/AHI_DataSci_507/main/Deployment_Streamlit/outpatient_2015.csv')\n",
        "df_outpatient"
      ],
      "metadata": {
        "id": "Q8QSNeryJCXT"
      },
      "execution_count": null,
      "outputs": []
    },
    {
      "cell_type": "markdown",
      "source": [
        "# Printing number of rows or length of each dataset\n"
      ],
      "metadata": {
        "id": "vq7OxN04LLDr"
      }
    },
    {
      "cell_type": "code",
      "source": [
        "print('Hospital_infoLength: ', len(df_hospital))"
      ],
      "metadata": {
        "id": "pe5xuSSNLov-"
      },
      "execution_count": null,
      "outputs": []
    },
    {
      "cell_type": "code",
      "source": [
        "print('OutpatientLength: ', len(df_outpatient))"
      ],
      "metadata": {
        "colab": {
          "base_uri": "https://localhost:8080/"
        },
        "id": "Wlf7yrszLs5X",
        "outputId": "060c9c7b-0bbf-462e-f788-8d663009e472"
      },
      "execution_count": 18,
      "outputs": [
        {
          "output_type": "stream",
          "name": "stdout",
          "text": [
            "OutpatientLength:  32532\n"
          ]
        }
      ]
    },
    {
      "cell_type": "code",
      "source": [
        "print('InpatientLength: ', len(df_inpatient))"
      ],
      "metadata": {
        "id": "u5LXCy9WL9Fz"
      },
      "execution_count": null,
      "outputs": []
    },
    {
      "cell_type": "markdown",
      "source": [
        "# Listing the unique columns of each datasets df_hospital, df_inpatient, & df_outpatient"
      ],
      "metadata": {
        "id": "GUNbQWRBMAoq"
      }
    },
    {
      "cell_type": "code",
      "source": [
        "list(df_hospital)"
      ],
      "metadata": {
        "colab": {
          "base_uri": "https://localhost:8080/"
        },
        "id": "Hsnkx7QeMbYu",
        "outputId": "3a63a35f-41dc-4d35-aa2d-fac00afceaec"
      },
      "execution_count": 15,
      "outputs": [
        {
          "output_type": "execute_result",
          "data": {
            "text/plain": [
              "['provider_id',\n",
              " 'hospital_name',\n",
              " 'address',\n",
              " 'city',\n",
              " 'state',\n",
              " 'zip_code',\n",
              " 'county_name',\n",
              " 'phone_number',\n",
              " 'hospital_type',\n",
              " 'hospital_ownership',\n",
              " 'emergency_services',\n",
              " 'meets_criteria_for_meaningful_use_of_ehrs',\n",
              " 'hospital_overall_rating',\n",
              " 'hospital_overall_rating_footnote',\n",
              " 'mortality_national_comparison',\n",
              " 'mortality_national_comparison_footnote',\n",
              " 'safety_of_care_national_comparison',\n",
              " 'safety_of_care_national_comparison_footnote',\n",
              " 'readmission_national_comparison',\n",
              " 'readmission_national_comparison_footnote',\n",
              " 'patient_experience_national_comparison',\n",
              " 'patient_experience_national_comparison_footnote',\n",
              " 'effectiveness_of_care_national_comparison',\n",
              " 'effectiveness_of_care_national_comparison_footnote',\n",
              " 'timeliness_of_care_national_comparison',\n",
              " 'timeliness_of_care_national_comparison_footnote',\n",
              " 'efficient_use_of_medical_imaging_national_comparison',\n",
              " 'efficient_use_of_medical_imaging_national_comparison_footnote',\n",
              " 'location']"
            ]
          },
          "metadata": {},
          "execution_count": 15
        }
      ]
    },
    {
      "cell_type": "code",
      "source": [
        "list(df_inpatient)"
      ],
      "metadata": {
        "colab": {
          "base_uri": "https://localhost:8080/"
        },
        "id": "TJLiVLPcMikK",
        "outputId": "34bb3973-866f-41ab-969d-02aac6e98cf0"
      },
      "execution_count": 16,
      "outputs": [
        {
          "output_type": "execute_result",
          "data": {
            "text/plain": [
              "['provider_id',\n",
              " 'provider_name',\n",
              " 'provider_street_address',\n",
              " 'provider_city',\n",
              " 'provider_state',\n",
              " 'provider_zipcode',\n",
              " 'drg_definition',\n",
              " 'hospital_referral_region_description',\n",
              " 'total_discharges',\n",
              " 'average_covered_charges',\n",
              " 'average_total_payments',\n",
              " 'average_medicare_payments']"
            ]
          },
          "metadata": {},
          "execution_count": 16
        }
      ]
    },
    {
      "cell_type": "code",
      "source": [
        "list(df_outpatient)\n"
      ],
      "metadata": {
        "colab": {
          "base_uri": "https://localhost:8080/"
        },
        "id": "iY57JK83Mzt-",
        "outputId": "f4257a42-7efd-4549-972e-503fc468043f"
      },
      "execution_count": 17,
      "outputs": [
        {
          "output_type": "execute_result",
          "data": {
            "text/plain": [
              "['provider_id',\n",
              " 'provider_name',\n",
              " 'provider_street_address',\n",
              " 'provider_city',\n",
              " 'provider_state',\n",
              " 'provider_zipcode',\n",
              " 'apc',\n",
              " 'hospital_referral_region',\n",
              " 'outpatient_services',\n",
              " 'average_estimated_submitted_charges',\n",
              " 'average_total_payments']"
            ]
          },
          "metadata": {},
          "execution_count": 17
        }
      ]
    },
    {
      "cell_type": "markdown",
      "source": [
        "# **Creating a profile report of each dataframe**"
      ],
      "metadata": {
        "id": "RbBJJjCIMi_O"
      }
    },
    {
      "cell_type": "code",
      "source": [
        "from pandas_profiling import ProfileReport"
      ],
      "metadata": {
        "id": "8dINp-lUNUvm"
      },
      "execution_count": 7,
      "outputs": []
    },
    {
      "cell_type": "code",
      "source": [
        "!pip install pandas-profiling==2.7.1\n"
      ],
      "metadata": {
        "id": "mgfBo-83NYfX"
      },
      "execution_count": null,
      "outputs": []
    },
    {
      "cell_type": "code",
      "source": [
        "hospital_profile = ProfileReport(df_hospital,title = \"Pandas Profiling Report - Hopsital Info\")\n",
        "hospital_profile"
      ],
      "metadata": {
        "id": "mBU57djhNbZG"
      },
      "execution_count": null,
      "outputs": []
    },
    {
      "cell_type": "code",
      "source": [
        "inpatient_profile = ProfileReport(df_inpatient, title = \"Pandas Profiling Report - Inpatient Info\")\n",
        "inpatient_profile"
      ],
      "metadata": {
        "id": "1tYIzfj7zl2M"
      },
      "execution_count": null,
      "outputs": []
    },
    {
      "cell_type": "code",
      "source": [
        "outpatient_profile = ProfileReport(df_outpatient, title = \"Pandas Profiling Report - Outpatient Info\")\n",
        "outpatient_profile"
      ],
      "metadata": {
        "id": "WeH9dEi6zmDg"
      },
      "execution_count": null,
      "outputs": []
    },
    {
      "cell_type": "markdown",
      "source": [
        "# **Cleaning of each dataset**\n"
      ],
      "metadata": {
        "id": "dYBuf1rG0jKy"
      }
    },
    {
      "cell_type": "code",
      "source": [
        "!pip install pyjanitor"
      ],
      "metadata": {
        "id": "SKa_M3sA0j-u"
      },
      "execution_count": null,
      "outputs": []
    },
    {
      "cell_type": "code",
      "source": [
        "from janitor import clean_names, remove_empty"
      ],
      "metadata": {
        "id": "Jf4JEwcM0jAX"
      },
      "execution_count": 71,
      "outputs": []
    },
    {
      "cell_type": "code",
      "source": [
        "# Cleaning df_hospital\n",
        "hospital_cleaneddf = pd.DataFrame.from_dict(df_hospital)\n",
        "df = clean_names(hospital_cleaneddf)\n",
        "df = remove_empty(hospital_cleaneddf)"
      ],
      "metadata": {
        "id": "A94FxF3v4b21"
      },
      "execution_count": 85,
      "outputs": []
    },
    {
      "cell_type": "code",
      "source": [
        "display(hospital_cleaneddf)"
      ],
      "metadata": {
        "id": "jmDPRa1P4jPb"
      },
      "execution_count": null,
      "outputs": []
    },
    {
      "cell_type": "code",
      "source": [
        "# Check for null values\n",
        "hospital_cleaneddf.isnull().sum()"
      ],
      "metadata": {
        "id": "0kMp7B7V5tPF"
      },
      "execution_count": null,
      "outputs": []
    },
    {
      "cell_type": "code",
      "source": [
        "display(hospital_cleaneddf)"
      ],
      "metadata": {
        "id": "DE7O5nKZF0yv"
      },
      "execution_count": null,
      "outputs": []
    },
    {
      "cell_type": "code",
      "source": [
        "#Cleaning of df_inpatient\n",
        "inpatient_cleaneddf = pd.DataFrame.from_dict(df_inpatient)\n",
        "inpatient_cleaneddf = clean_names(inpatient_cleaneddf)\n",
        "inpatient_cleaneddf = remove_empty(inpatient_cleaneddf)"
      ],
      "metadata": {
        "id": "jdObneTE7kjM"
      },
      "execution_count": 87,
      "outputs": []
    },
    {
      "cell_type": "code",
      "source": [
        "# Check for null values\n",
        "inpatient_cleaneddf.isnull().sum()"
      ],
      "metadata": {
        "id": "twZmn9CY98FN"
      },
      "execution_count": null,
      "outputs": []
    },
    {
      "cell_type": "code",
      "source": [
        "display(inpatient_cleaneddf)"
      ],
      "metadata": {
        "id": "ikOD2Rr98cBL"
      },
      "execution_count": null,
      "outputs": []
    },
    {
      "cell_type": "code",
      "source": [
        "# Cleaning df_outpatient\n",
        "outpatient_cleaneddf = pd.DataFrame.from_dict(df_outpatient)\n",
        "outpatient_cleaneddf = clean_names(outpatient_cleaneddf)\n",
        "outpatient_cleaneddf = remove_empty(outpatient_cleaneddf)"
      ],
      "metadata": {
        "id": "YA0ZFBnb-ERq"
      },
      "execution_count": 90,
      "outputs": []
    },
    {
      "cell_type": "code",
      "source": [
        "# Check for null values\n",
        "outpatient_cleaneddf.isnull().sum()"
      ],
      "metadata": {
        "id": "CKE7c4SrKdiz"
      },
      "execution_count": null,
      "outputs": []
    },
    {
      "cell_type": "code",
      "source": [
        "display(outpatient_cleaneddf)"
      ],
      "metadata": {
        "id": "RWsGHYfCKgX8"
      },
      "execution_count": null,
      "outputs": []
    },
    {
      "cell_type": "markdown",
      "source": [
        "# **Merging Datasets**"
      ],
      "metadata": {
        "id": "OJLjI998KqWk"
      }
    },
    {
      "cell_type": "code",
      "source": [
        "# Changing necessary data types to make merging easy\n",
        "# Using provider_id as primary key\n",
        "hospital_cleaneddf['provider_id'] = hospital_cleaneddf['provider_id'].astype(str)\n",
        "inpatient_cleaneddf['provider_id'] = inpatient_cleaneddf['provider_id'].astype(str)\n",
        "outpatient_cleaneddf['provider_id'] = outpatient_cleaneddf['provider_id'].astype(str)"
      ],
      "metadata": {
        "id": "DIPtUvVbK0Oy"
      },
      "execution_count": 93,
      "outputs": []
    },
    {
      "cell_type": "code",
      "source": [
        "inpatient_hospital = inpatient_cleaneddf.merge(hospital_cleaneddf, how = 'left', left_on = 'provider_id', right_on = 'provider_id')\n",
        "inpatient_hospital.sample(10)"
      ],
      "metadata": {
        "id": "yvnIcTjtNAMK"
      },
      "execution_count": null,
      "outputs": []
    },
    {
      "cell_type": "code",
      "source": [
        "outpatient_hospital = outpatient_cleaneddf.merge(hospital_cleaneddf, how = 'left', left_on = 'provider_id', right_on = 'provider_id')\n",
        "outpatient_hospital.sample(10)"
      ],
      "metadata": {
        "id": "SvyegSL-NpUj"
      },
      "execution_count": null,
      "outputs": []
    },
    {
      "cell_type": "markdown",
      "source": [
        ""
      ],
      "metadata": {
        "id": "5wlVc0YT0jzj"
      }
    }
  ]
}